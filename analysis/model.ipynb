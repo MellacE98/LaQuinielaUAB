{
 "cells": [
  {
   "cell_type": "code",
   "execution_count": 529,
   "metadata": {},
   "outputs": [],
   "source": [
    "import pandas as pd\n",
    "import numpy as np\n",
    "import matplotlib.pyplot as plt\n",
    "import sqlite3\n",
    "from sklearn.tree import DecisionTreeClassifier\n",
    "from sklearn.ensemble import GradientBoostingClassifier, RandomForestClassifier\n",
    "from sklearn.linear_model import LogisticRegression\n",
    "import os"
   ]
  },
  {
   "cell_type": "code",
   "execution_count": 530,
   "metadata": {},
   "outputs": [],
   "source": [
    "db_path = os.path.join(os.getcwd(), 'laliga.sqlite')\n",
    "laliga_con = sqlite3.connect(str(db_path))\n",
    "cursor = laliga_con.cursor()"
   ]
  },
  {
   "cell_type": "code",
   "execution_count": 531,
   "metadata": {},
   "outputs": [],
   "source": [
    "cursor.execute('SELECT * FROM Matches')\n",
    "data = cursor.fetchall()\n",
    "\n",
    "columns = cursor.execute('PRAGMA table_info(Matches)').fetchall()\n",
    "columns = [col[1] for col in columns]\n",
    "\n",
    "df = pd.DataFrame(data, columns=columns)\n",
    "df = df[df['score'].notna()]"
   ]
  },
  {
   "cell_type": "code",
   "execution_count": 532,
   "metadata": {},
   "outputs": [
    {
     "data": {
      "text/html": [
       "<div>\n",
       "<style scoped>\n",
       "    .dataframe tbody tr th:only-of-type {\n",
       "        vertical-align: middle;\n",
       "    }\n",
       "\n",
       "    .dataframe tbody tr th {\n",
       "        vertical-align: top;\n",
       "    }\n",
       "\n",
       "    .dataframe thead th {\n",
       "        text-align: right;\n",
       "    }\n",
       "</style>\n",
       "<table border=\"1\" class=\"dataframe\">\n",
       "  <thead>\n",
       "    <tr style=\"text-align: right;\">\n",
       "      <th></th>\n",
       "      <th>season</th>\n",
       "      <th>division</th>\n",
       "      <th>matchday</th>\n",
       "      <th>date</th>\n",
       "      <th>time</th>\n",
       "      <th>home_team</th>\n",
       "      <th>away_team</th>\n",
       "      <th>goals_home</th>\n",
       "      <th>goals_away</th>\n",
       "      <th>diff_goals</th>\n",
       "      <th>result</th>\n",
       "    </tr>\n",
       "  </thead>\n",
       "  <tbody>\n",
       "    <tr>\n",
       "      <th>0</th>\n",
       "      <td>1928-1929</td>\n",
       "      <td>1</td>\n",
       "      <td>1</td>\n",
       "      <td>2/10/29</td>\n",
       "      <td>None</td>\n",
       "      <td>Arenas Club</td>\n",
       "      <td>Athletic Madrid</td>\n",
       "      <td>2</td>\n",
       "      <td>3</td>\n",
       "      <td>1</td>\n",
       "      <td>2</td>\n",
       "    </tr>\n",
       "    <tr>\n",
       "      <th>1</th>\n",
       "      <td>1928-1929</td>\n",
       "      <td>1</td>\n",
       "      <td>1</td>\n",
       "      <td>2/10/29</td>\n",
       "      <td>None</td>\n",
       "      <td>Espanyol</td>\n",
       "      <td>Real Unión</td>\n",
       "      <td>3</td>\n",
       "      <td>2</td>\n",
       "      <td>1</td>\n",
       "      <td>1</td>\n",
       "    </tr>\n",
       "    <tr>\n",
       "      <th>2</th>\n",
       "      <td>1928-1929</td>\n",
       "      <td>1</td>\n",
       "      <td>1</td>\n",
       "      <td>2/10/29</td>\n",
       "      <td>None</td>\n",
       "      <td>Real Madrid</td>\n",
       "      <td>Catalunya</td>\n",
       "      <td>5</td>\n",
       "      <td>0</td>\n",
       "      <td>5</td>\n",
       "      <td>1</td>\n",
       "    </tr>\n",
       "    <tr>\n",
       "      <th>3</th>\n",
       "      <td>1928-1929</td>\n",
       "      <td>1</td>\n",
       "      <td>1</td>\n",
       "      <td>2/10/29</td>\n",
       "      <td>None</td>\n",
       "      <td>Donostia</td>\n",
       "      <td>Athletic</td>\n",
       "      <td>1</td>\n",
       "      <td>1</td>\n",
       "      <td>0</td>\n",
       "      <td>0</td>\n",
       "    </tr>\n",
       "    <tr>\n",
       "      <th>4</th>\n",
       "      <td>1928-1929</td>\n",
       "      <td>1</td>\n",
       "      <td>1</td>\n",
       "      <td>2/12/29</td>\n",
       "      <td>None</td>\n",
       "      <td>Racing</td>\n",
       "      <td>Barcelona</td>\n",
       "      <td>0</td>\n",
       "      <td>2</td>\n",
       "      <td>2</td>\n",
       "      <td>2</td>\n",
       "    </tr>\n",
       "  </tbody>\n",
       "</table>\n",
       "</div>"
      ],
      "text/plain": [
       "      season  division  matchday     date  time    home_team        away_team  \\\n",
       "0  1928-1929         1         1  2/10/29  None  Arenas Club  Athletic Madrid   \n",
       "1  1928-1929         1         1  2/10/29  None     Espanyol       Real Unión   \n",
       "2  1928-1929         1         1  2/10/29  None  Real Madrid        Catalunya   \n",
       "3  1928-1929         1         1  2/10/29  None     Donostia         Athletic   \n",
       "4  1928-1929         1         1  2/12/29  None       Racing        Barcelona   \n",
       "\n",
       "   goals_home  goals_away  diff_goals  result  \n",
       "0           2           3           1       2  \n",
       "1           3           2           1       1  \n",
       "2           5           0           5       1  \n",
       "3           1           1           0       0  \n",
       "4           0           2           2       2  "
      ]
     },
     "execution_count": 532,
     "metadata": {},
     "output_type": "execute_result"
    }
   ],
   "source": [
    "df[['goals_home', 'goals_away']] = df['score'].str.split(':', expand=True).astype(int)\n",
    "df['diff_goals'] = abs(df['goals_home'] - df['goals_away'])\n",
    "results = [\n",
    "    (df['goals_home'] > df['goals_away']),\n",
    "    (df['goals_home'] == df['goals_away']),\n",
    "    (df['goals_home'] < df['goals_away'])\n",
    "]\n",
    "\n",
    "df['result'] = np.select(results, [1, 0, 2]) # mejor en númeritos, el 0 es el empate\n",
    "df = df.drop(['score'], axis = 1) # dropeamos el score porque pah k\n",
    "df.head()"
   ]
  },
  {
   "cell_type": "code",
   "execution_count": 533,
   "metadata": {},
   "outputs": [],
   "source": [
    "def convert_todate(obs):\n",
    "    split_date = obs.split('/')\n",
    "\n",
    "    if len(split_date[0]) == 1:\n",
    "        split_date[0] = '0'+split_date[0]\n",
    "    if len(split_date[1]) == 1:\n",
    "        split_date[1] = '0'+split_date[1]\n",
    "    if int(split_date[2]) > 24:\n",
    "        split_date[2] = '19'+split_date[2]\n",
    "    else:\n",
    "        split_date[2] = '20'+split_date[2]\n",
    "\n",
    "    return '/'.join(split_date)"
   ]
  },
  {
   "cell_type": "code",
   "execution_count": 534,
   "metadata": {},
   "outputs": [],
   "source": [
    "df['date'] = df['date'].apply(lambda x: convert_todate(x))\n",
    "df['date'] = pd.to_datetime(df['date'])"
   ]
  },
  {
   "cell_type": "code",
   "execution_count": 535,
   "metadata": {},
   "outputs": [],
   "source": [
    "df['season'] = df['season'].str.split('-').str[0].astype(int)"
   ]
  },
  {
   "cell_type": "code",
   "execution_count": 536,
   "metadata": {},
   "outputs": [],
   "source": [
    "mask = (df['date'] > '1950-01-01') & (df['date'] <= '2015-01-01')\n",
    "train = df[mask].copy(deep=True)\n",
    "mask = df['date'] > '2015-01-01'\n",
    "test = df[mask].copy(deep=True)"
   ]
  },
  {
   "cell_type": "code",
   "execution_count": 537,
   "metadata": {},
   "outputs": [],
   "source": [
    "all_teams = {}\n",
    "for count, team in enumerate(train['home_team'].unique()):\n",
    "    all_teams[team] = count"
   ]
  },
  {
   "cell_type": "code",
   "execution_count": 538,
   "metadata": {},
   "outputs": [],
   "source": [
    "def count_goals(data):\n",
    "    sample_dict = {'scored_home':0, 'conceded_home':0, 'scored_away':0, 'conceded_away':0}\n",
    "    goals_dictionary = { team : sample_dict.copy() for team in data['home_team'].unique()}\n",
    "\n",
    "    data['scored_home'] = 0\n",
    "    data['conceded_home'] = 0\n",
    "    data['scored_away'] = 0\n",
    "    data['conceded_away'] = 0\n",
    "\n",
    "    for index, partido in data.iterrows():\n",
    "\n",
    "        home_team = partido['home_team']\n",
    "        away_team = partido['away_team']\n",
    "        \n",
    "        home_goals = partido['goals_home']\n",
    "        away_goals = partido['goals_away']\n",
    "\n",
    "        goals_dictionary[home_team]['scored_home'] += home_goals\n",
    "        data.at[index, 'scored_home'] = goals_dictionary[home_team]['scored_home']\n",
    "\n",
    "        goals_dictionary[away_team]['scored_away'] += away_goals\n",
    "        data.at[index, 'scored_away'] = goals_dictionary[away_team]['scored_away']\n",
    "\n",
    "        goals_dictionary[home_team]['conceded_home'] += away_goals\n",
    "        data.at[index, 'conceded_home'] = goals_dictionary[home_team]['conceded_home']\n",
    "\n",
    "        goals_dictionary[away_team]['conceded_away'] += home_goals\n",
    "        data.at[index, 'conceded_away'] = goals_dictionary[away_team]['conceded_away']\n",
    "        \n",
    "    return data, goals_dictionary"
   ]
  },
  {
   "cell_type": "code",
   "execution_count": 539,
   "metadata": {},
   "outputs": [],
   "source": [
    "def add_goals(data, goals_dict):\n",
    "    data['scored_home'] = -1\n",
    "    data['conceded_home'] = -1\n",
    "    data['scored_away'] = -1\n",
    "    data['conceded_away'] = -1\n",
    "\n",
    "    for index, partido in data.iterrows():\n",
    "        home_team = partido['home_team']\n",
    "        away_team = partido['away_team']\n",
    "\n",
    "        if home_team  in goals_dict:\n",
    "            data.at[index, 'scored_home'] = goals_dict[home_team]['scored_home']\n",
    "            data.at[index, 'conceded_home'] = goals_dict[home_team]['conceded_home']\n",
    "        \n",
    "        if away_team in goals_dict:\n",
    "            data.at[index, 'scored_away'] = goals_dict[away_team]['scored_away']\n",
    "            data.at[index, 'conceded_away'] = goals_dict[away_team]['conceded_away']\n",
    "\n",
    "    return data"
   ]
  },
  {
   "cell_type": "code",
   "execution_count": 540,
   "metadata": {},
   "outputs": [],
   "source": [
    "def wins(data):    \n",
    "    sample_dict = {'win':0, 'tie':0, 'lost':0}\n",
    "    wins_dictionary = { team : sample_dict.copy() for team in data['home_team'].unique()}\n",
    "\n",
    "    data['win_home'] = 0\n",
    "    data['tie_home'] = 0\n",
    "    data['lost_home'] = 0\n",
    "\n",
    "    data['win_away'] = 0\n",
    "    data['tie_away'] = 0\n",
    "    data['lost_away'] = 0\n",
    "    \n",
    "    for index, partido in data.iterrows():\n",
    "\n",
    "        home_team = partido['home_team']\n",
    "        away_team = partido['away_team']\n",
    "        \n",
    "        if partido['result'] == 1:\n",
    "            wins_dictionary[home_team]['win'] += 1\n",
    "            wins_dictionary[away_team]['lost'] += 1\n",
    "\n",
    "        if partido['result'] == 2:\n",
    "            wins_dictionary[away_team]['win'] += 1\n",
    "            wins_dictionary[home_team]['lost'] += 1\n",
    "\n",
    "        else:\n",
    "            wins_dictionary[home_team]['tie'] += 1\n",
    "            wins_dictionary[away_team]['tie'] += 1\n",
    "\n",
    "\n",
    "        data.at[index, 'win_home'] = wins_dictionary[home_team]['win']\n",
    "        data.at[index, 'tie_home'] = wins_dictionary[home_team]['tie']\n",
    "        data.at[index, 'lost_home'] = wins_dictionary[home_team]['lost']\n",
    "\n",
    "        data.at[index, 'win_away'] = wins_dictionary[away_team]['win']\n",
    "        data.at[index, 'tie_away'] = wins_dictionary[away_team]['tie']\n",
    "        data.at[index, 'lost_away'] = wins_dictionary[away_team]['lost']\n",
    "\n",
    "    return data, wins_dictionary"
   ]
  },
  {
   "cell_type": "code",
   "execution_count": 541,
   "metadata": {},
   "outputs": [],
   "source": [
    "def add_wins(data, wins_dict):\n",
    "    data['win'] = 0\n",
    "    data['tie'] = 0\n",
    "    data['lost'] = 0\n",
    "\n",
    "    for index, partido in data.iterrows():\n",
    "        home_team = partido['home_team']\n",
    "        away_team = partido['away_team']\n",
    "\n",
    "        if home_team in wins_dict:\n",
    "            data.at[index, 'win_home'] = wins_dict[home_team]['win']\n",
    "            data.at[index, 'tie_home'] = wins_dict[home_team]['tie']\n",
    "            data.at[index, 'lost_home'] = wins_dict[home_team]['lost']\n",
    "        \n",
    "        if away_team in wins_dict:\n",
    "            data.at[index, 'win_away'] = wins_dict[away_team]['win']\n",
    "            data.at[index, 'tie_away'] = wins_dict[away_team]['tie']\n",
    "            data.at[index, 'lost_away'] = wins_dict[away_team]['lost']\n",
    "\n",
    "    return data"
   ]
  },
  {
   "cell_type": "code",
   "execution_count": 542,
   "metadata": {},
   "outputs": [],
   "source": [
    "train, goals_dict = count_goals(train)\n",
    "test = add_goals(test, goals_dict)\n",
    "\n",
    "train, wins_dict = wins(train)\n",
    "test = add_wins(test, wins_dict)"
   ]
  },
  {
   "cell_type": "code",
   "execution_count": 543,
   "metadata": {},
   "outputs": [],
   "source": [
    "train['home_team'] = train['home_team'].map(all_teams)\n",
    "train['away_team'] = train['away_team'].map(all_teams)\n",
    "\n",
    "test['home_team'] = test['home_team'].map(all_teams)\n",
    "test['away_team'] = test['away_team'].map(all_teams)\n",
    "\n",
    "test.fillna(-1, inplace=True)"
   ]
  },
  {
   "cell_type": "code",
   "execution_count": 544,
   "metadata": {},
   "outputs": [],
   "source": [
    "cols = ['home_team', 'away_team', 'division', \n",
    "'matchday', 'win_home', 'win_away', 'scored_home', 'scored_away', 'season']\n",
    "\n",
    "x_train = train[cols]\n",
    "y_train = train['result']\n",
    "\n",
    "x_test = test[cols]\n",
    "y_test = test['result']\n"
   ]
  },
  {
   "cell_type": "code",
   "execution_count": 545,
   "metadata": {},
   "outputs": [
    {
     "data": {
      "text/html": [
       "<style>#sk-container-id-20 {color: black;background-color: white;}#sk-container-id-20 pre{padding: 0;}#sk-container-id-20 div.sk-toggleable {background-color: white;}#sk-container-id-20 label.sk-toggleable__label {cursor: pointer;display: block;width: 100%;margin-bottom: 0;padding: 0.3em;box-sizing: border-box;text-align: center;}#sk-container-id-20 label.sk-toggleable__label-arrow:before {content: \"▸\";float: left;margin-right: 0.25em;color: #696969;}#sk-container-id-20 label.sk-toggleable__label-arrow:hover:before {color: black;}#sk-container-id-20 div.sk-estimator:hover label.sk-toggleable__label-arrow:before {color: black;}#sk-container-id-20 div.sk-toggleable__content {max-height: 0;max-width: 0;overflow: hidden;text-align: left;background-color: #f0f8ff;}#sk-container-id-20 div.sk-toggleable__content pre {margin: 0.2em;color: black;border-radius: 0.25em;background-color: #f0f8ff;}#sk-container-id-20 input.sk-toggleable__control:checked~div.sk-toggleable__content {max-height: 200px;max-width: 100%;overflow: auto;}#sk-container-id-20 input.sk-toggleable__control:checked~label.sk-toggleable__label-arrow:before {content: \"▾\";}#sk-container-id-20 div.sk-estimator input.sk-toggleable__control:checked~label.sk-toggleable__label {background-color: #d4ebff;}#sk-container-id-20 div.sk-label input.sk-toggleable__control:checked~label.sk-toggleable__label {background-color: #d4ebff;}#sk-container-id-20 input.sk-hidden--visually {border: 0;clip: rect(1px 1px 1px 1px);clip: rect(1px, 1px, 1px, 1px);height: 1px;margin: -1px;overflow: hidden;padding: 0;position: absolute;width: 1px;}#sk-container-id-20 div.sk-estimator {font-family: monospace;background-color: #f0f8ff;border: 1px dotted black;border-radius: 0.25em;box-sizing: border-box;margin-bottom: 0.5em;}#sk-container-id-20 div.sk-estimator:hover {background-color: #d4ebff;}#sk-container-id-20 div.sk-parallel-item::after {content: \"\";width: 100%;border-bottom: 1px solid gray;flex-grow: 1;}#sk-container-id-20 div.sk-label:hover label.sk-toggleable__label {background-color: #d4ebff;}#sk-container-id-20 div.sk-serial::before {content: \"\";position: absolute;border-left: 1px solid gray;box-sizing: border-box;top: 0;bottom: 0;left: 50%;z-index: 0;}#sk-container-id-20 div.sk-serial {display: flex;flex-direction: column;align-items: center;background-color: white;padding-right: 0.2em;padding-left: 0.2em;position: relative;}#sk-container-id-20 div.sk-item {position: relative;z-index: 1;}#sk-container-id-20 div.sk-parallel {display: flex;align-items: stretch;justify-content: center;background-color: white;position: relative;}#sk-container-id-20 div.sk-item::before, #sk-container-id-20 div.sk-parallel-item::before {content: \"\";position: absolute;border-left: 1px solid gray;box-sizing: border-box;top: 0;bottom: 0;left: 50%;z-index: -1;}#sk-container-id-20 div.sk-parallel-item {display: flex;flex-direction: column;z-index: 1;position: relative;background-color: white;}#sk-container-id-20 div.sk-parallel-item:first-child::after {align-self: flex-end;width: 50%;}#sk-container-id-20 div.sk-parallel-item:last-child::after {align-self: flex-start;width: 50%;}#sk-container-id-20 div.sk-parallel-item:only-child::after {width: 0;}#sk-container-id-20 div.sk-dashed-wrapped {border: 1px dashed gray;margin: 0 0.4em 0.5em 0.4em;box-sizing: border-box;padding-bottom: 0.4em;background-color: white;}#sk-container-id-20 div.sk-label label {font-family: monospace;font-weight: bold;display: inline-block;line-height: 1.2em;}#sk-container-id-20 div.sk-label-container {text-align: center;}#sk-container-id-20 div.sk-container {/* jupyter's `normalize.less` sets `[hidden] { display: none; }` but bootstrap.min.css set `[hidden] { display: none !important; }` so we also need the `!important` here to be able to override the default hidden behavior on the sphinx rendered scikit-learn.org. See: https://github.com/scikit-learn/scikit-learn/issues/21755 */display: inline-block !important;position: relative;}#sk-container-id-20 div.sk-text-repr-fallback {display: none;}</style><div id=\"sk-container-id-20\" class=\"sk-top-container\"><div class=\"sk-text-repr-fallback\"><pre>DecisionTreeClassifier()</pre><b>In a Jupyter environment, please rerun this cell to show the HTML representation or trust the notebook. <br />On GitHub, the HTML representation is unable to render, please try loading this page with nbviewer.org.</b></div><div class=\"sk-container\" hidden><div class=\"sk-item\"><div class=\"sk-estimator sk-toggleable\"><input class=\"sk-toggleable__control sk-hidden--visually\" id=\"sk-estimator-id-20\" type=\"checkbox\" checked><label for=\"sk-estimator-id-20\" class=\"sk-toggleable__label sk-toggleable__label-arrow\">DecisionTreeClassifier</label><div class=\"sk-toggleable__content\"><pre>DecisionTreeClassifier()</pre></div></div></div></div></div>"
      ],
      "text/plain": [
       "DecisionTreeClassifier()"
      ]
     },
     "execution_count": 545,
     "metadata": {},
     "output_type": "execute_result"
    }
   ],
   "source": [
    "model = DecisionTreeClassifier()\n",
    "\n",
    "model.fit(x_train, y_train)"
   ]
  },
  {
   "cell_type": "code",
   "execution_count": 546,
   "metadata": {},
   "outputs": [],
   "source": [
    "prediction = model.predict(x_test)"
   ]
  },
  {
   "cell_type": "code",
   "execution_count": 547,
   "metadata": {},
   "outputs": [
    {
     "name": "stdout",
     "output_type": "stream",
     "text": [
      "Accuracy Tree: 0.3834613323807823\n"
     ]
    }
   ],
   "source": [
    "hits = (y_test == prediction).value_counts()\n",
    "print(f'Accuracy Tree: {hits[1] / len(y_test)}')"
   ]
  },
  {
   "cell_type": "code",
   "execution_count": 548,
   "metadata": {},
   "outputs": [
    {
     "name": "stdout",
     "output_type": "stream",
     "text": [
      "Accuracy BoostingC: 0.4793713163064833\n"
     ]
    }
   ],
   "source": [
    "model2 = GradientBoostingClassifier()\n",
    "model2.fit(x_train, y_train)\n",
    "\n",
    "prediction = model2.predict(x_test)\n",
    "\n",
    "hits = (y_test == prediction).value_counts()\n",
    "print(f'Accuracy BoostingC: {hits[1] / len(y_test)}')"
   ]
  },
  {
   "cell_type": "code",
   "execution_count": 549,
   "metadata": {},
   "outputs": [
    {
     "name": "stdout",
     "output_type": "stream",
     "text": [
      "Accuracy RandomForest: 0.44257903196999465\n"
     ]
    }
   ],
   "source": [
    "model3 = RandomForestClassifier()\n",
    "model3.fit(x_train, y_train)\n",
    "\n",
    "prediction = model3.predict(x_test)\n",
    "\n",
    "hits = (y_test == prediction).value_counts()\n",
    "print(f'Accuracy RandomForest: {hits[1] / len(y_test)}')"
   ]
  },
  {
   "cell_type": "code",
   "execution_count": 550,
   "metadata": {},
   "outputs": [
    {
     "name": "stdout",
     "output_type": "stream",
     "text": [
      "Accuracy Logistic: 0.4672262904090016\n"
     ]
    },
    {
     "name": "stderr",
     "output_type": "stream",
     "text": [
      "c:\\Users\\mella\\AppData\\Local\\Programs\\Python\\Python39\\lib\\site-packages\\sklearn\\linear_model\\_logistic.py:458: ConvergenceWarning: lbfgs failed to converge (status=1):\n",
      "STOP: TOTAL NO. of ITERATIONS REACHED LIMIT.\n",
      "\n",
      "Increase the number of iterations (max_iter) or scale the data as shown in:\n",
      "    https://scikit-learn.org/stable/modules/preprocessing.html\n",
      "Please also refer to the documentation for alternative solver options:\n",
      "    https://scikit-learn.org/stable/modules/linear_model.html#logistic-regression\n",
      "  n_iter_i = _check_optimize_result(\n"
     ]
    }
   ],
   "source": [
    "model3 = LogisticRegression()\n",
    "model3.fit(x_train, y_train)\n",
    "\n",
    "prediction = model3.predict(x_test)\n",
    "\n",
    "hits = (y_test == prediction).value_counts()\n",
    "print(f'Accuracy Logistic: {hits[1] / len(y_test)}')"
   ]
  },
  {
   "attachments": {},
   "cell_type": "markdown",
   "metadata": {},
   "source": [
    "DecisionTreeClassifier -> ACC: 37,21%\\\n",
    "GradientBoostingClassifier -> ACC: 47,06%\\\n",
    "RandomForest -> ACC: 40,71%\n",
    "\\\n",
    "\\\n",
    "Con historico de goles:\\\n",
    "DecisionTreeClassifier -> ACC: 36.56%\\\n",
    "GradientBoostingClassifier -> ACC: 44.64%\\\n",
    "RandomForest -> ACC: 43.89%\n",
    "\\\n",
    "\\\n",
    "Con historico de wins:\\\n",
    "DecisionTreeClassifier -> ACC: 37.60%\\\n",
    "GradientBoostingClassifier -> ACC: 47.34%\\\n",
    "RandomForest -> ACC: 43.87%\n"
   ]
  }
 ],
 "metadata": {
  "kernelspec": {
   "display_name": "Python 3",
   "language": "python",
   "name": "python3"
  },
  "language_info": {
   "codemirror_mode": {
    "name": "ipython",
    "version": 3
   },
   "file_extension": ".py",
   "mimetype": "text/x-python",
   "name": "python",
   "nbconvert_exporter": "python",
   "pygments_lexer": "ipython3",
   "version": "3.9.12 (main, Apr  5 2022, 01:53:17) \n[Clang 12.0.0 ]"
  },
  "orig_nbformat": 4,
  "vscode": {
   "interpreter": {
    "hash": "4a5d33498f9649c05b21671a5d2a953eaa418a7fe5b39b58a8186e2317a66eef"
   }
  }
 },
 "nbformat": 4,
 "nbformat_minor": 2
}
