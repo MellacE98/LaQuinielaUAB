{
 "cells": [
  {
   "attachments": {},
   "cell_type": "markdown",
   "metadata": {},
   "source": [
    "In the following notebook we are going to explain the different steps we have followed to determine which information and which optimisation algorithm we have chosen to make our model.\\\n",
    "The first step consists of importing all the libraries necessary for the development of the model. Among them, there are the three algorithms that we have chosen to carry out the different tests: Decision Tree Classifier, Gradient Boosting Classifier, Random Forest Classifier and Logistic Regression. The reason we have chosen these 4 is because we need a classifier, as our output is going to be a 1, 2 or X. "
   ]
  },
  {
   "cell_type": "code",
   "execution_count": 123,
   "metadata": {},
   "outputs": [],
   "source": [
    "import pandas as pd\n",
    "import numpy as np\n",
    "import matplotlib.pyplot as plt\n",
    "import sqlite3\n",
    "from sklearn.tree import DecisionTreeClassifier\n",
    "from sklearn.ensemble import GradientBoostingClassifier, RandomForestClassifier\n",
    "from sklearn.linear_model import LogisticRegression\n",
    "import os"
   ]
  },
  {
   "attachments": {},
   "cell_type": "markdown",
   "metadata": {},
   "source": [
    "Next, the database must be fully loaded."
   ]
  },
  {
   "cell_type": "code",
   "execution_count": 124,
   "metadata": {},
   "outputs": [],
   "source": [
    "db_path = os.path.join(os.getcwd(), 'laliga.sqlite')\n",
    "laliga_con = sqlite3.connect(str(db_path))\n",
    "cursor = laliga_con.cursor()\n",
    "\n",
    "cursor.execute('SELECT * FROM Matches')\n",
    "data = cursor.fetchall()\n",
    "\n",
    "columns = cursor.execute('PRAGMA table_info(Matches)').fetchall()\n",
    "columns = [col[1] for col in columns]\n",
    "\n",
    "df = pd.DataFrame(data, columns=columns)"
   ]
  },
  {
   "attachments": {},
   "cell_type": "markdown",
   "metadata": {},
   "source": [
    "Once we have the database loaded we will make several changes. The first is to discard all NAs in the score column:"
   ]
  },
  {
   "cell_type": "code",
   "execution_count": 125,
   "metadata": {},
   "outputs": [],
   "source": [
    "df = df[df['score'].notna()]"
   ]
  },
  {
   "attachments": {},
   "cell_type": "markdown",
   "metadata": {},
   "source": [
    "Once we no longer have NAs in the column we can separate the result into goals scored by the home team (goals_home) and goals scored by the away team (away_home). With these two columns we can calculate new data that can be useful as inputs to the model."
   ]
  },
  {
   "cell_type": "code",
   "execution_count": 126,
   "metadata": {},
   "outputs": [],
   "source": [
    "df[['goals_home', 'goals_away']] = df['score'].str.split(':', expand=True).astype(int)"
   ]
  },
  {
   "attachments": {},
   "cell_type": "markdown",
   "metadata": {},
   "source": [
    "Finally, using the goals scored by each team we can determine which team has won. This new data will be stored in the result column. The 1 value will indicate that the home team has won, the 2 value will indicate that the away team has won and finally the 0 value will indicate that it has been a draw."
   ]
  },
  {
   "cell_type": "code",
   "execution_count": 127,
   "metadata": {},
   "outputs": [],
   "source": [
    "results = [\n",
    "    (df['goals_home'] > df['goals_away']),\n",
    "    (df['goals_home'] == df['goals_away']),\n",
    "    (df['goals_home'] < df['goals_away'])\n",
    "]\n",
    "\n",
    "df['result'] = np.select(results, [1, 0, 2]) "
   ]
  },
  {
   "attachments": {},
   "cell_type": "markdown",
   "metadata": {},
   "source": [
    "Once this process is finished, we can delete the score column, as it does not provide us with any more information."
   ]
  },
  {
   "cell_type": "code",
   "execution_count": 128,
   "metadata": {},
   "outputs": [],
   "source": [
    "df = df.drop(['score'], axis = 1)"
   ]
  },
  {
   "attachments": {},
   "cell_type": "markdown",
   "metadata": {},
   "source": [
    "After all these modifications, the database looks like this:"
   ]
  },
  {
   "cell_type": "code",
   "execution_count": 129,
   "metadata": {},
   "outputs": [
    {
     "data": {
      "text/html": [
       "<div>\n",
       "<style scoped>\n",
       "    .dataframe tbody tr th:only-of-type {\n",
       "        vertical-align: middle;\n",
       "    }\n",
       "\n",
       "    .dataframe tbody tr th {\n",
       "        vertical-align: top;\n",
       "    }\n",
       "\n",
       "    .dataframe thead th {\n",
       "        text-align: right;\n",
       "    }\n",
       "</style>\n",
       "<table border=\"1\" class=\"dataframe\">\n",
       "  <thead>\n",
       "    <tr style=\"text-align: right;\">\n",
       "      <th></th>\n",
       "      <th>season</th>\n",
       "      <th>division</th>\n",
       "      <th>matchday</th>\n",
       "      <th>date</th>\n",
       "      <th>time</th>\n",
       "      <th>home_team</th>\n",
       "      <th>away_team</th>\n",
       "      <th>goals_home</th>\n",
       "      <th>goals_away</th>\n",
       "      <th>result</th>\n",
       "    </tr>\n",
       "  </thead>\n",
       "  <tbody>\n",
       "    <tr>\n",
       "      <th>0</th>\n",
       "      <td>1928-1929</td>\n",
       "      <td>1</td>\n",
       "      <td>1</td>\n",
       "      <td>2/10/29</td>\n",
       "      <td>None</td>\n",
       "      <td>Arenas Club</td>\n",
       "      <td>Athletic Madrid</td>\n",
       "      <td>2</td>\n",
       "      <td>3</td>\n",
       "      <td>2</td>\n",
       "    </tr>\n",
       "    <tr>\n",
       "      <th>1</th>\n",
       "      <td>1928-1929</td>\n",
       "      <td>1</td>\n",
       "      <td>1</td>\n",
       "      <td>2/10/29</td>\n",
       "      <td>None</td>\n",
       "      <td>Espanyol</td>\n",
       "      <td>Real Unión</td>\n",
       "      <td>3</td>\n",
       "      <td>2</td>\n",
       "      <td>1</td>\n",
       "    </tr>\n",
       "    <tr>\n",
       "      <th>2</th>\n",
       "      <td>1928-1929</td>\n",
       "      <td>1</td>\n",
       "      <td>1</td>\n",
       "      <td>2/10/29</td>\n",
       "      <td>None</td>\n",
       "      <td>Real Madrid</td>\n",
       "      <td>Catalunya</td>\n",
       "      <td>5</td>\n",
       "      <td>0</td>\n",
       "      <td>1</td>\n",
       "    </tr>\n",
       "    <tr>\n",
       "      <th>3</th>\n",
       "      <td>1928-1929</td>\n",
       "      <td>1</td>\n",
       "      <td>1</td>\n",
       "      <td>2/10/29</td>\n",
       "      <td>None</td>\n",
       "      <td>Donostia</td>\n",
       "      <td>Athletic</td>\n",
       "      <td>1</td>\n",
       "      <td>1</td>\n",
       "      <td>0</td>\n",
       "    </tr>\n",
       "    <tr>\n",
       "      <th>4</th>\n",
       "      <td>1928-1929</td>\n",
       "      <td>1</td>\n",
       "      <td>1</td>\n",
       "      <td>2/12/29</td>\n",
       "      <td>None</td>\n",
       "      <td>Racing</td>\n",
       "      <td>Barcelona</td>\n",
       "      <td>0</td>\n",
       "      <td>2</td>\n",
       "      <td>2</td>\n",
       "    </tr>\n",
       "  </tbody>\n",
       "</table>\n",
       "</div>"
      ],
      "text/plain": [
       "      season  division  matchday     date  time    home_team        away_team  \\\n",
       "0  1928-1929         1         1  2/10/29  None  Arenas Club  Athletic Madrid   \n",
       "1  1928-1929         1         1  2/10/29  None     Espanyol       Real Unión   \n",
       "2  1928-1929         1         1  2/10/29  None  Real Madrid        Catalunya   \n",
       "3  1928-1929         1         1  2/10/29  None     Donostia         Athletic   \n",
       "4  1928-1929         1         1  2/12/29  None       Racing        Barcelona   \n",
       "\n",
       "   goals_home  goals_away  result  \n",
       "0           2           3       2  \n",
       "1           3           2       1  \n",
       "2           5           0       1  \n",
       "3           1           1       0  \n",
       "4           0           2       2  "
      ]
     },
     "execution_count": 129,
     "metadata": {},
     "output_type": "execute_result"
    }
   ],
   "source": [
    "df.head()"
   ]
  },
  {
   "attachments": {},
   "cell_type": "markdown",
   "metadata": {},
   "source": [
    "Our database contains all results from the 1928-1929 season until the 2020-2021 season. As football has evolved so much, data from older seasons will not provide us with relevant information. Therefore, we only want to select data from the seasons 1980 onwards.\\\n",
    "To do this, we will first convert the date column to datetime format with the convert_todate() function."
   ]
  },
  {
   "cell_type": "code",
   "execution_count": 130,
   "metadata": {},
   "outputs": [],
   "source": [
    "def convert_todate(obs):\n",
    "    split_date = obs.split('/')\n",
    "\n",
    "    if len(split_date[0]) == 1:\n",
    "        split_date[0] = '0'+split_date[0]\n",
    "    if len(split_date[1]) == 1:\n",
    "        split_date[1] = '0'+split_date[1]\n",
    "    if int(split_date[2]) > 24:\n",
    "        split_date[2] = '19'+split_date[2]\n",
    "    else:\n",
    "        split_date[2] = '20'+split_date[2]\n",
    "\n",
    "    return '/'.join(split_date)"
   ]
  },
  {
   "cell_type": "code",
   "execution_count": 131,
   "metadata": {},
   "outputs": [
    {
     "data": {
      "text/html": [
       "<div>\n",
       "<style scoped>\n",
       "    .dataframe tbody tr th:only-of-type {\n",
       "        vertical-align: middle;\n",
       "    }\n",
       "\n",
       "    .dataframe tbody tr th {\n",
       "        vertical-align: top;\n",
       "    }\n",
       "\n",
       "    .dataframe thead th {\n",
       "        text-align: right;\n",
       "    }\n",
       "</style>\n",
       "<table border=\"1\" class=\"dataframe\">\n",
       "  <thead>\n",
       "    <tr style=\"text-align: right;\">\n",
       "      <th></th>\n",
       "      <th>season</th>\n",
       "      <th>division</th>\n",
       "      <th>matchday</th>\n",
       "      <th>date</th>\n",
       "      <th>time</th>\n",
       "      <th>home_team</th>\n",
       "      <th>away_team</th>\n",
       "      <th>goals_home</th>\n",
       "      <th>goals_away</th>\n",
       "      <th>result</th>\n",
       "    </tr>\n",
       "  </thead>\n",
       "  <tbody>\n",
       "    <tr>\n",
       "      <th>0</th>\n",
       "      <td>1928-1929</td>\n",
       "      <td>1</td>\n",
       "      <td>1</td>\n",
       "      <td>1929-02-10</td>\n",
       "      <td>None</td>\n",
       "      <td>Arenas Club</td>\n",
       "      <td>Athletic Madrid</td>\n",
       "      <td>2</td>\n",
       "      <td>3</td>\n",
       "      <td>2</td>\n",
       "    </tr>\n",
       "    <tr>\n",
       "      <th>1</th>\n",
       "      <td>1928-1929</td>\n",
       "      <td>1</td>\n",
       "      <td>1</td>\n",
       "      <td>1929-02-10</td>\n",
       "      <td>None</td>\n",
       "      <td>Espanyol</td>\n",
       "      <td>Real Unión</td>\n",
       "      <td>3</td>\n",
       "      <td>2</td>\n",
       "      <td>1</td>\n",
       "    </tr>\n",
       "    <tr>\n",
       "      <th>2</th>\n",
       "      <td>1928-1929</td>\n",
       "      <td>1</td>\n",
       "      <td>1</td>\n",
       "      <td>1929-02-10</td>\n",
       "      <td>None</td>\n",
       "      <td>Real Madrid</td>\n",
       "      <td>Catalunya</td>\n",
       "      <td>5</td>\n",
       "      <td>0</td>\n",
       "      <td>1</td>\n",
       "    </tr>\n",
       "    <tr>\n",
       "      <th>3</th>\n",
       "      <td>1928-1929</td>\n",
       "      <td>1</td>\n",
       "      <td>1</td>\n",
       "      <td>1929-02-10</td>\n",
       "      <td>None</td>\n",
       "      <td>Donostia</td>\n",
       "      <td>Athletic</td>\n",
       "      <td>1</td>\n",
       "      <td>1</td>\n",
       "      <td>0</td>\n",
       "    </tr>\n",
       "    <tr>\n",
       "      <th>4</th>\n",
       "      <td>1928-1929</td>\n",
       "      <td>1</td>\n",
       "      <td>1</td>\n",
       "      <td>1929-02-12</td>\n",
       "      <td>None</td>\n",
       "      <td>Racing</td>\n",
       "      <td>Barcelona</td>\n",
       "      <td>0</td>\n",
       "      <td>2</td>\n",
       "      <td>2</td>\n",
       "    </tr>\n",
       "  </tbody>\n",
       "</table>\n",
       "</div>"
      ],
      "text/plain": [
       "      season  division  matchday       date  time    home_team  \\\n",
       "0  1928-1929         1         1 1929-02-10  None  Arenas Club   \n",
       "1  1928-1929         1         1 1929-02-10  None     Espanyol   \n",
       "2  1928-1929         1         1 1929-02-10  None  Real Madrid   \n",
       "3  1928-1929         1         1 1929-02-10  None     Donostia   \n",
       "4  1928-1929         1         1 1929-02-12  None       Racing   \n",
       "\n",
       "         away_team  goals_home  goals_away  result  \n",
       "0  Athletic Madrid           2           3       2  \n",
       "1       Real Unión           3           2       1  \n",
       "2        Catalunya           5           0       1  \n",
       "3         Athletic           1           1       0  \n",
       "4        Barcelona           0           2       2  "
      ]
     },
     "execution_count": 131,
     "metadata": {},
     "output_type": "execute_result"
    }
   ],
   "source": [
    "df['date'] = df['date'].apply(lambda x: convert_todate(x))\n",
    "df['date'] = pd.to_datetime(df['date'])\n",
    "df.head()"
   ]
  },
  {
   "attachments": {},
   "cell_type": "markdown",
   "metadata": {},
   "source": [
    "Another column that may be interesting to convert, in this case to integer, is the season column: "
   ]
  },
  {
   "cell_type": "code",
   "execution_count": 132,
   "metadata": {},
   "outputs": [],
   "source": [
    "df['season'] = df['season'].str.split('-').str[0].astype(int)"
   ]
  },
  {
   "attachments": {},
   "cell_type": "markdown",
   "metadata": {},
   "source": [
    "Now, we define a mask that we will use to select only the data of the seasons we want and we will apply it to divide the data into two subsets called train and test."
   ]
  },
  {
   "cell_type": "code",
   "execution_count": 133,
   "metadata": {},
   "outputs": [],
   "source": [
    "mask = (df['date'] > '1980-01-01') & (df['date'] <= '2010-01-01')\n",
    "train = df[mask].copy(deep=True)\n",
    "mask = df['date'] > '2010-01-01'\n",
    "test = df[mask].copy(deep=True)"
   ]
  },
  {
   "attachments": {},
   "cell_type": "markdown",
   "metadata": {},
   "source": [
    "At the moment a lot of our data are strings, for example the name of the teams. In this format they cannot be used by the model and, as we consider them relevant information, we decide to map all the teams and assign a number to them. "
   ]
  },
  {
   "cell_type": "code",
   "execution_count": 134,
   "metadata": {},
   "outputs": [],
   "source": [
    "all_teams = {}\n",
    "for count, team in enumerate(train['home_team'].unique()):\n",
    "    all_teams[team] = count\n",
    "\n",
    "train['home_team'] = train['home_team'].map(all_teams)\n",
    "train['away_team'] = train['away_team'].map(all_teams)\n",
    "\n",
    "test['home_team'] = test['home_team'].map(all_teams)\n",
    "test['away_team'] = test['away_team'].map(all_teams)\n",
    "\n",
    "test.fillna(-1, inplace=True)"
   ]
  },
  {
   "attachments": {},
   "cell_type": "markdown",
   "metadata": {},
   "source": [
    "At this point we can start testing and begin to build our model. First we will choose which columns to use from the subset train. "
   ]
  },
  {
   "cell_type": "code",
   "execution_count": 135,
   "metadata": {},
   "outputs": [],
   "source": [
    "cols = ['home_team', 'away_team', 'division', 'matchday']"
   ]
  },
  {
   "attachments": {},
   "cell_type": "markdown",
   "metadata": {},
   "source": [
    "As a first approach we chose to use these columns because they are the only ones we can use without starting to process the data. We will use them to train the model and the result column we will use to know the performance of our model."
   ]
  },
  {
   "cell_type": "code",
   "execution_count": 136,
   "metadata": {},
   "outputs": [],
   "source": [
    "x_train = train[cols]\n",
    "y_train = train['result']\n",
    "\n",
    "x_test = test[cols]\n",
    "y_test = test['result']"
   ]
  },
  {
   "attachments": {},
   "cell_type": "markdown",
   "metadata": {},
   "source": [
    "With the data separated we can start creating the model. Let's check the accuracy of each:"
   ]
  },
  {
   "attachments": {},
   "cell_type": "markdown",
   "metadata": {},
   "source": [
    "Decision Tree Classifier (DTC):"
   ]
  },
  {
   "cell_type": "code",
   "execution_count": 137,
   "metadata": {},
   "outputs": [
    {
     "name": "stdout",
     "output_type": "stream",
     "text": [
      "Accuracy Tree: 0.3728761827245905\n"
     ]
    }
   ],
   "source": [
    "model = DecisionTreeClassifier()\n",
    "model.fit(x_train, y_train)\n",
    "\n",
    "prediction = model.predict(x_test)\n",
    "\n",
    "hits = (y_test == prediction).value_counts()\n",
    "print(f'Accuracy Tree: {hits[1] / len(y_test)}')"
   ]
  },
  {
   "attachments": {},
   "cell_type": "markdown",
   "metadata": {},
   "source": [
    "Gradient Boosting Classifier (GBC):"
   ]
  },
  {
   "cell_type": "code",
   "execution_count": 138,
   "metadata": {},
   "outputs": [
    {
     "name": "stdout",
     "output_type": "stream",
     "text": [
      "Accuracy BoostingC: 0.4705463424559976\n"
     ]
    }
   ],
   "source": [
    "model2 = GradientBoostingClassifier()\n",
    "model2.fit(x_train, y_train)\n",
    "\n",
    "prediction = model2.predict(x_test)\n",
    "\n",
    "hits = (y_test == prediction).value_counts()\n",
    "print(f'Accuracy BoostingC: {hits[1] / len(y_test)}')"
   ]
  },
  {
   "attachments": {},
   "cell_type": "markdown",
   "metadata": {},
   "source": [
    "Random Forest Classifier (RFC):"
   ]
  },
  {
   "cell_type": "code",
   "execution_count": 139,
   "metadata": {},
   "outputs": [
    {
     "name": "stdout",
     "output_type": "stream",
     "text": [
      "Accuracy RandomForest: 0.40970597212330856\n"
     ]
    }
   ],
   "source": [
    "model3 = RandomForestClassifier()\n",
    "model3.fit(x_train, y_train)\n",
    "\n",
    "prediction = model3.predict(x_test)\n",
    "\n",
    "hits = (y_test == prediction).value_counts()\n",
    "print(f'Accuracy RandomForest: {hits[1] / len(y_test)}')"
   ]
  },
  {
   "attachments": {},
   "cell_type": "markdown",
   "metadata": {},
   "source": [
    "Logistic Regression (LR):"
   ]
  },
  {
   "cell_type": "code",
   "execution_count": 140,
   "metadata": {},
   "outputs": [
    {
     "name": "stdout",
     "output_type": "stream",
     "text": [
      "Accuracy Logistic: 0.4558958184962865\n"
     ]
    }
   ],
   "source": [
    "model4 = LogisticRegression(max_iter=1000)\n",
    "model4.fit(x_train, y_train)\n",
    "\n",
    "prediction = model4.predict(x_test)\n",
    "\n",
    "hits = (y_test == prediction).value_counts()\n",
    "print(f'Accuracy Logistic: {hits[1] / len(y_test)}')"
   ]
  },
  {
   "attachments": {},
   "cell_type": "markdown",
   "metadata": {},
   "source": [
    "Let's see a table with the diferents accuracies of the four models:\n",
    "\n",
    "| Model | Accuracy (%) |\n",
    "|:----:|:----:|\n",
    "| DTC | 37.28 |\n",
    "| GBC | 47.05 |\n",
    "| RFC | 40.97 |\n",
    "| LR | 45.56 |"
   ]
  },
  {
   "attachments": {},
   "cell_type": "markdown",
   "metadata": {},
   "source": [
    "The accuracies of the four models are somewhat poor, this is due to the fact that football is a very complicated sport to predict. However, the models with the best results are the Gradient Boosting Classifier and the Logistic Regression."
   ]
  },
  {
   "attachments": {},
   "cell_type": "markdown",
   "metadata": {},
   "source": [
    "Although we know that achieving an accuracy between 40% and 50% is a fairly acceptable result, we want to try to improve the model. To do this, we will try two different things:\\\n",
    "    1. Create a history of goals scored and conceded at home and away for each team.\\\n",
    "    2. Create a winning record for each team."
   ]
  },
  {
   "attachments": {},
   "cell_type": "markdown",
   "metadata": {},
   "source": [
    "As we have mapped all the teams in the DB and they are now numbers, we have lost their names, so we must reload the database to retrieve them. Therefore we will repeat all the database changes we made before."
   ]
  },
  {
   "cell_type": "code",
   "execution_count": 141,
   "metadata": {},
   "outputs": [],
   "source": [
    "db_path = os.path.join(os.getcwd(), 'laliga.sqlite')\n",
    "laliga_con = sqlite3.connect(str(db_path))\n",
    "cursor = laliga_con.cursor()\n",
    "\n",
    "cursor.execute('SELECT * FROM Matches')\n",
    "data = cursor.fetchall()\n",
    "\n",
    "columns = cursor.execute('PRAGMA table_info(Matches)').fetchall()\n",
    "columns = [col[1] for col in columns]\n",
    "\n",
    "df = pd.DataFrame(data, columns=columns)\n",
    "\n",
    "df = df[df['score'].notna()]\n",
    "\n",
    "df[['goals_home', 'goals_away']] = df['score'].str.split(':', expand=True).astype(int)\n",
    "\n",
    "results = [\n",
    "    (df['goals_home'] > df['goals_away']),\n",
    "    (df['goals_home'] == df['goals_away']),\n",
    "    (df['goals_home'] < df['goals_away'])\n",
    "]\n",
    "\n",
    "df['result'] = np.select(results, [1, 0, 2]) \n",
    "\n",
    "df = df.drop(['score'], axis = 1)\n",
    "\n",
    "df['date'] = df['date'].apply(lambda x: convert_todate(x))\n",
    "df['date'] = pd.to_datetime(df['date'])\n",
    "\n",
    "df['season'] = df['season'].str.split('-').str[0].astype(int)\n",
    "\n",
    "mask = (df['date'] > '1980-01-01') & (df['date'] <= '2010-01-01')\n",
    "train = df[mask].copy(deep=True)\n",
    "mask = df['date'] > '2010-01-01'\n",
    "test = df[mask].copy(deep=True)"
   ]
  },
  {
   "attachments": {},
   "cell_type": "markdown",
   "metadata": {},
   "source": [
    "We'll map the teams again, but this time we'll run the history of goals and the history of wins functions first."
   ]
  },
  {
   "cell_type": "code",
   "execution_count": 142,
   "metadata": {},
   "outputs": [],
   "source": [
    "all_teams = {}\n",
    "for count, team in enumerate(train['home_team'].unique()):\n",
    "    all_teams[team] = count"
   ]
  },
  {
   "attachments": {},
   "cell_type": "markdown",
   "metadata": {},
   "source": [
    "Let's create the function that counts the historical goals:"
   ]
  },
  {
   "cell_type": "code",
   "execution_count": 143,
   "metadata": {},
   "outputs": [],
   "source": [
    "def count_goals(data):\n",
    "    sample_dict = {'scored_home':0, 'conceded_home':0, 'scored_away':0, 'conceded_away':0}\n",
    "    goals_dictionary = { team : sample_dict.copy() for team in data['home_team'].unique()}\n",
    "\n",
    "    data['scored_home'] = 0\n",
    "    data['conceded_home'] = 0\n",
    "    data['scored_away'] = 0\n",
    "    data['conceded_away'] = 0\n",
    "\n",
    "    for index, partido in data.iterrows():\n",
    "\n",
    "        home_team = partido['home_team']\n",
    "        away_team = partido['away_team']\n",
    "        \n",
    "        home_goals = partido['goals_home']\n",
    "        away_goals = partido['goals_away']\n",
    "\n",
    "        goals_dictionary[home_team]['scored_home'] += home_goals\n",
    "        data.at[index, 'scored_home'] = goals_dictionary[home_team]['scored_home']\n",
    "\n",
    "        goals_dictionary[away_team]['scored_away'] += away_goals\n",
    "        data.at[index, 'scored_away'] = goals_dictionary[away_team]['scored_away']\n",
    "\n",
    "        goals_dictionary[home_team]['conceded_home'] += away_goals\n",
    "        data.at[index, 'conceded_home'] = goals_dictionary[home_team]['conceded_home']\n",
    "\n",
    "        goals_dictionary[away_team]['conceded_away'] += home_goals\n",
    "        data.at[index, 'conceded_away'] = goals_dictionary[away_team]['conceded_away']\n",
    "        \n",
    "    return data, goals_dictionary"
   ]
  },
  {
   "attachments": {},
   "cell_type": "markdown",
   "metadata": {},
   "source": [
    "Once created, we must create a function that save this data in the DB:"
   ]
  },
  {
   "cell_type": "code",
   "execution_count": 144,
   "metadata": {},
   "outputs": [],
   "source": [
    "def add_goals(data, goals_dict):\n",
    "    data['scored_home'] = -1\n",
    "    data['conceded_home'] = -1\n",
    "    data['scored_away'] = -1\n",
    "    data['conceded_away'] = -1\n",
    "\n",
    "    for index, partido in data.iterrows():\n",
    "        home_team = partido['home_team']\n",
    "        away_team = partido['away_team']\n",
    "\n",
    "        if home_team  in goals_dict:\n",
    "            data.at[index, 'scored_home'] = goals_dict[home_team]['scored_home']\n",
    "            data.at[index, 'conceded_home'] = goals_dict[home_team]['conceded_home']\n",
    "        \n",
    "        if away_team in goals_dict:\n",
    "            data.at[index, 'scored_away'] = goals_dict[away_team]['scored_away']\n",
    "            data.at[index, 'conceded_away'] = goals_dict[away_team]['conceded_away']\n",
    "\n",
    "    return data"
   ]
  },
  {
   "attachments": {},
   "cell_type": "markdown",
   "metadata": {},
   "source": [
    "Now let's create the function that creates the history of victories:"
   ]
  },
  {
   "cell_type": "code",
   "execution_count": 145,
   "metadata": {},
   "outputs": [],
   "source": [
    "def wins(data):    \n",
    "    sample_dict = {'win':0, 'tie':0, 'lost':0}\n",
    "    wins_dictionary = { team : sample_dict.copy() for team in data['home_team'].unique()}\n",
    "\n",
    "    data['win_home'] = 0\n",
    "    data['tie_home'] = 0\n",
    "    data['lost_home'] = 0\n",
    "\n",
    "    data['win_away'] = 0\n",
    "    data['tie_away'] = 0\n",
    "    data['lost_away'] = 0\n",
    "    \n",
    "    for index, partido in data.iterrows():\n",
    "\n",
    "        home_team = partido['home_team']\n",
    "        away_team = partido['away_team']\n",
    "        \n",
    "        if partido['result'] == 1:\n",
    "            wins_dictionary[home_team]['win'] += 1\n",
    "            wins_dictionary[away_team]['lost'] += 1\n",
    "\n",
    "        if partido['result'] == 2:\n",
    "            wins_dictionary[away_team]['win'] += 1\n",
    "            wins_dictionary[home_team]['lost'] += 1\n",
    "\n",
    "        else:\n",
    "            wins_dictionary[home_team]['tie'] += 1\n",
    "            wins_dictionary[away_team]['tie'] += 1\n",
    "\n",
    "\n",
    "        data.at[index, 'win_home'] = wins_dictionary[home_team]['win']\n",
    "        data.at[index, 'tie_home'] = wins_dictionary[home_team]['tie']\n",
    "        data.at[index, 'lost_home'] = wins_dictionary[home_team]['lost']\n",
    "\n",
    "        data.at[index, 'win_away'] = wins_dictionary[away_team]['win']\n",
    "        data.at[index, 'tie_away'] = wins_dictionary[away_team]['tie']\n",
    "        data.at[index, 'lost_away'] = wins_dictionary[away_team]['lost']\n",
    "\n",
    "    return data, wins_dictionary"
   ]
  },
  {
   "attachments": {},
   "cell_type": "markdown",
   "metadata": {},
   "source": [
    "And, as before, let's create a function that store this new information into the DB:"
   ]
  },
  {
   "cell_type": "code",
   "execution_count": 146,
   "metadata": {},
   "outputs": [],
   "source": [
    "def add_wins(data, wins_dict):\n",
    "    data['win'] = 0\n",
    "    data['tie'] = 0\n",
    "    data['lost'] = 0\n",
    "\n",
    "    for index, partido in data.iterrows():\n",
    "        home_team = partido['home_team']\n",
    "        away_team = partido['away_team']\n",
    "\n",
    "        if home_team in wins_dict:\n",
    "            data.at[index, 'win_home'] = wins_dict[home_team]['win']\n",
    "            data.at[index, 'tie_home'] = wins_dict[home_team]['tie']\n",
    "            data.at[index, 'lost_home'] = wins_dict[home_team]['lost']\n",
    "        \n",
    "        if away_team in wins_dict:\n",
    "            data.at[index, 'win_away'] = wins_dict[away_team]['win']\n",
    "            data.at[index, 'tie_away'] = wins_dict[away_team]['tie']\n",
    "            data.at[index, 'lost_away'] = wins_dict[away_team]['lost']\n",
    "\n",
    "    return data"
   ]
  },
  {
   "attachments": {},
   "cell_type": "markdown",
   "metadata": {},
   "source": [
    "And now, we can write all the new data into the DB:"
   ]
  },
  {
   "cell_type": "code",
   "execution_count": 147,
   "metadata": {},
   "outputs": [],
   "source": [
    "train, goals_dict = count_goals(train)\n",
    "test = add_goals(test, goals_dict)\n",
    "\n",
    "train, wins_dict = wins(train)\n",
    "test = add_wins(test, wins_dict)"
   ]
  },
  {
   "attachments": {},
   "cell_type": "markdown",
   "metadata": {},
   "source": [
    "Once the information has been saved, we can re-map all the teams:"
   ]
  },
  {
   "cell_type": "code",
   "execution_count": 148,
   "metadata": {},
   "outputs": [],
   "source": [
    "train['home_team'] = train['home_team'].map(all_teams)\n",
    "train['away_team'] = train['away_team'].map(all_teams)\n",
    "\n",
    "test['home_team'] = test['home_team'].map(all_teams)\n",
    "test['away_team'] = test['away_team'].map(all_teams)\n",
    "\n",
    "test.fillna(-1, inplace=True)"
   ]
  },
  {
   "attachments": {},
   "cell_type": "markdown",
   "metadata": {},
   "source": [
    "Let's take a look of how our train and test DBs looks now:"
   ]
  },
  {
   "cell_type": "code",
   "execution_count": 149,
   "metadata": {},
   "outputs": [
    {
     "data": {
      "text/html": [
       "<div>\n",
       "<style scoped>\n",
       "    .dataframe tbody tr th:only-of-type {\n",
       "        vertical-align: middle;\n",
       "    }\n",
       "\n",
       "    .dataframe tbody tr th {\n",
       "        vertical-align: top;\n",
       "    }\n",
       "\n",
       "    .dataframe thead th {\n",
       "        text-align: right;\n",
       "    }\n",
       "</style>\n",
       "<table border=\"1\" class=\"dataframe\">\n",
       "  <thead>\n",
       "    <tr style=\"text-align: right;\">\n",
       "      <th></th>\n",
       "      <th>season</th>\n",
       "      <th>division</th>\n",
       "      <th>matchday</th>\n",
       "      <th>date</th>\n",
       "      <th>time</th>\n",
       "      <th>home_team</th>\n",
       "      <th>away_team</th>\n",
       "      <th>goals_home</th>\n",
       "      <th>goals_away</th>\n",
       "      <th>result</th>\n",
       "      <th>scored_home</th>\n",
       "      <th>conceded_home</th>\n",
       "      <th>scored_away</th>\n",
       "      <th>conceded_away</th>\n",
       "      <th>win_home</th>\n",
       "      <th>tie_home</th>\n",
       "      <th>lost_home</th>\n",
       "      <th>win_away</th>\n",
       "      <th>tie_away</th>\n",
       "      <th>lost_away</th>\n",
       "    </tr>\n",
       "  </thead>\n",
       "  <tbody>\n",
       "    <tr>\n",
       "      <th>10560</th>\n",
       "      <td>1979</td>\n",
       "      <td>1</td>\n",
       "      <td>15</td>\n",
       "      <td>1980-01-06</td>\n",
       "      <td>None</td>\n",
       "      <td>0</td>\n",
       "      <td>15</td>\n",
       "      <td>1</td>\n",
       "      <td>0</td>\n",
       "      <td>1</td>\n",
       "      <td>1</td>\n",
       "      <td>0</td>\n",
       "      <td>0</td>\n",
       "      <td>1</td>\n",
       "      <td>1</td>\n",
       "      <td>1</td>\n",
       "      <td>0</td>\n",
       "      <td>0</td>\n",
       "      <td>1</td>\n",
       "      <td>1</td>\n",
       "    </tr>\n",
       "    <tr>\n",
       "      <th>10561</th>\n",
       "      <td>1979</td>\n",
       "      <td>1</td>\n",
       "      <td>15</td>\n",
       "      <td>1980-01-06</td>\n",
       "      <td>None</td>\n",
       "      <td>1</td>\n",
       "      <td>16</td>\n",
       "      <td>1</td>\n",
       "      <td>0</td>\n",
       "      <td>1</td>\n",
       "      <td>1</td>\n",
       "      <td>0</td>\n",
       "      <td>0</td>\n",
       "      <td>1</td>\n",
       "      <td>1</td>\n",
       "      <td>1</td>\n",
       "      <td>0</td>\n",
       "      <td>0</td>\n",
       "      <td>1</td>\n",
       "      <td>1</td>\n",
       "    </tr>\n",
       "    <tr>\n",
       "      <th>10562</th>\n",
       "      <td>1979</td>\n",
       "      <td>1</td>\n",
       "      <td>15</td>\n",
       "      <td>1980-01-06</td>\n",
       "      <td>None</td>\n",
       "      <td>2</td>\n",
       "      <td>11</td>\n",
       "      <td>1</td>\n",
       "      <td>1</td>\n",
       "      <td>0</td>\n",
       "      <td>1</td>\n",
       "      <td>1</td>\n",
       "      <td>1</td>\n",
       "      <td>1</td>\n",
       "      <td>0</td>\n",
       "      <td>1</td>\n",
       "      <td>0</td>\n",
       "      <td>0</td>\n",
       "      <td>1</td>\n",
       "      <td>0</td>\n",
       "    </tr>\n",
       "    <tr>\n",
       "      <th>10563</th>\n",
       "      <td>1979</td>\n",
       "      <td>1</td>\n",
       "      <td>15</td>\n",
       "      <td>1980-01-06</td>\n",
       "      <td>None</td>\n",
       "      <td>3</td>\n",
       "      <td>10</td>\n",
       "      <td>1</td>\n",
       "      <td>1</td>\n",
       "      <td>0</td>\n",
       "      <td>1</td>\n",
       "      <td>1</td>\n",
       "      <td>1</td>\n",
       "      <td>1</td>\n",
       "      <td>0</td>\n",
       "      <td>1</td>\n",
       "      <td>0</td>\n",
       "      <td>0</td>\n",
       "      <td>1</td>\n",
       "      <td>0</td>\n",
       "    </tr>\n",
       "    <tr>\n",
       "      <th>10564</th>\n",
       "      <td>1979</td>\n",
       "      <td>1</td>\n",
       "      <td>15</td>\n",
       "      <td>1980-01-06</td>\n",
       "      <td>None</td>\n",
       "      <td>4</td>\n",
       "      <td>12</td>\n",
       "      <td>0</td>\n",
       "      <td>0</td>\n",
       "      <td>0</td>\n",
       "      <td>0</td>\n",
       "      <td>0</td>\n",
       "      <td>0</td>\n",
       "      <td>0</td>\n",
       "      <td>0</td>\n",
       "      <td>1</td>\n",
       "      <td>0</td>\n",
       "      <td>0</td>\n",
       "      <td>1</td>\n",
       "      <td>0</td>\n",
       "    </tr>\n",
       "  </tbody>\n",
       "</table>\n",
       "</div>"
      ],
      "text/plain": [
       "       season  division  matchday       date  time  home_team  away_team  \\\n",
       "10560    1979         1        15 1980-01-06  None          0         15   \n",
       "10561    1979         1        15 1980-01-06  None          1         16   \n",
       "10562    1979         1        15 1980-01-06  None          2         11   \n",
       "10563    1979         1        15 1980-01-06  None          3         10   \n",
       "10564    1979         1        15 1980-01-06  None          4         12   \n",
       "\n",
       "       goals_home  goals_away  result  scored_home  conceded_home  \\\n",
       "10560           1           0       1            1              0   \n",
       "10561           1           0       1            1              0   \n",
       "10562           1           1       0            1              1   \n",
       "10563           1           1       0            1              1   \n",
       "10564           0           0       0            0              0   \n",
       "\n",
       "       scored_away  conceded_away  win_home  tie_home  lost_home  win_away  \\\n",
       "10560            0              1         1         1          0         0   \n",
       "10561            0              1         1         1          0         0   \n",
       "10562            1              1         0         1          0         0   \n",
       "10563            1              1         0         1          0         0   \n",
       "10564            0              0         0         1          0         0   \n",
       "\n",
       "       tie_away  lost_away  \n",
       "10560         1          1  \n",
       "10561         1          1  \n",
       "10562         1          0  \n",
       "10563         1          0  \n",
       "10564         1          0  "
      ]
     },
     "execution_count": 149,
     "metadata": {},
     "output_type": "execute_result"
    }
   ],
   "source": [
    "train.head()"
   ]
  },
  {
   "cell_type": "code",
   "execution_count": 150,
   "metadata": {},
   "outputs": [
    {
     "data": {
      "text/html": [
       "<div>\n",
       "<style scoped>\n",
       "    .dataframe tbody tr th:only-of-type {\n",
       "        vertical-align: middle;\n",
       "    }\n",
       "\n",
       "    .dataframe tbody tr th {\n",
       "        vertical-align: top;\n",
       "    }\n",
       "\n",
       "    .dataframe thead th {\n",
       "        text-align: right;\n",
       "    }\n",
       "</style>\n",
       "<table border=\"1\" class=\"dataframe\">\n",
       "  <thead>\n",
       "    <tr style=\"text-align: right;\">\n",
       "      <th></th>\n",
       "      <th>season</th>\n",
       "      <th>division</th>\n",
       "      <th>matchday</th>\n",
       "      <th>date</th>\n",
       "      <th>time</th>\n",
       "      <th>home_team</th>\n",
       "      <th>away_team</th>\n",
       "      <th>goals_home</th>\n",
       "      <th>goals_away</th>\n",
       "      <th>result</th>\n",
       "      <th>...</th>\n",
       "      <th>conceded_away</th>\n",
       "      <th>win</th>\n",
       "      <th>tie</th>\n",
       "      <th>lost</th>\n",
       "      <th>win_home</th>\n",
       "      <th>tie_home</th>\n",
       "      <th>lost_home</th>\n",
       "      <th>win_away</th>\n",
       "      <th>tie_away</th>\n",
       "      <th>lost_away</th>\n",
       "    </tr>\n",
       "  </thead>\n",
       "  <tbody>\n",
       "    <tr>\n",
       "      <th>21648</th>\n",
       "      <td>2009</td>\n",
       "      <td>1</td>\n",
       "      <td>16</td>\n",
       "      <td>2010-01-02</td>\n",
       "      <td>6:00 PM</td>\n",
       "      <td>3.0</td>\n",
       "      <td>1.0</td>\n",
       "      <td>1</td>\n",
       "      <td>0</td>\n",
       "      <td>1</td>\n",
       "      <td>...</td>\n",
       "      <td>862</td>\n",
       "      <td>0</td>\n",
       "      <td>0</td>\n",
       "      <td>0</td>\n",
       "      <td>498.0</td>\n",
       "      <td>861.0</td>\n",
       "      <td>337.0</td>\n",
       "      <td>390.0</td>\n",
       "      <td>888.0</td>\n",
       "      <td>418.0</td>\n",
       "    </tr>\n",
       "    <tr>\n",
       "      <th>21649</th>\n",
       "      <td>2009</td>\n",
       "      <td>1</td>\n",
       "      <td>16</td>\n",
       "      <td>2010-01-02</td>\n",
       "      <td>8:00 PM</td>\n",
       "      <td>17.0</td>\n",
       "      <td>38.0</td>\n",
       "      <td>1</td>\n",
       "      <td>1</td>\n",
       "      <td>0</td>\n",
       "      <td>...</td>\n",
       "      <td>489</td>\n",
       "      <td>0</td>\n",
       "      <td>0</td>\n",
       "      <td>0</td>\n",
       "      <td>639.0</td>\n",
       "      <td>835.0</td>\n",
       "      <td>224.0</td>\n",
       "      <td>258.0</td>\n",
       "      <td>506.0</td>\n",
       "      <td>228.0</td>\n",
       "    </tr>\n",
       "    <tr>\n",
       "      <th>21650</th>\n",
       "      <td>2009</td>\n",
       "      <td>1</td>\n",
       "      <td>16</td>\n",
       "      <td>2010-01-02</td>\n",
       "      <td>10:00 PM</td>\n",
       "      <td>6.0</td>\n",
       "      <td>7.0</td>\n",
       "      <td>2</td>\n",
       "      <td>1</td>\n",
       "      <td>1</td>\n",
       "      <td>...</td>\n",
       "      <td>819</td>\n",
       "      <td>0</td>\n",
       "      <td>0</td>\n",
       "      <td>0</td>\n",
       "      <td>506.0</td>\n",
       "      <td>856.0</td>\n",
       "      <td>344.0</td>\n",
       "      <td>460.0</td>\n",
       "      <td>873.0</td>\n",
       "      <td>393.0</td>\n",
       "    </tr>\n",
       "    <tr>\n",
       "      <th>21651</th>\n",
       "      <td>2009</td>\n",
       "      <td>1</td>\n",
       "      <td>16</td>\n",
       "      <td>2010-01-03</td>\n",
       "      <td>5:00 PM</td>\n",
       "      <td>16.0</td>\n",
       "      <td>39.0</td>\n",
       "      <td>2</td>\n",
       "      <td>2</td>\n",
       "      <td>0</td>\n",
       "      <td>...</td>\n",
       "      <td>342</td>\n",
       "      <td>0</td>\n",
       "      <td>0</td>\n",
       "      <td>0</td>\n",
       "      <td>407.0</td>\n",
       "      <td>881.0</td>\n",
       "      <td>438.0</td>\n",
       "      <td>158.0</td>\n",
       "      <td>324.0</td>\n",
       "      <td>161.0</td>\n",
       "    </tr>\n",
       "    <tr>\n",
       "      <th>21652</th>\n",
       "      <td>2009</td>\n",
       "      <td>1</td>\n",
       "      <td>16</td>\n",
       "      <td>2010-01-03</td>\n",
       "      <td>5:00 PM</td>\n",
       "      <td>43.0</td>\n",
       "      <td>20.0</td>\n",
       "      <td>1</td>\n",
       "      <td>0</td>\n",
       "      <td>1</td>\n",
       "      <td>...</td>\n",
       "      <td>914</td>\n",
       "      <td>0</td>\n",
       "      <td>0</td>\n",
       "      <td>0</td>\n",
       "      <td>155.0</td>\n",
       "      <td>380.0</td>\n",
       "      <td>199.0</td>\n",
       "      <td>379.0</td>\n",
       "      <td>900.0</td>\n",
       "      <td>432.0</td>\n",
       "    </tr>\n",
       "  </tbody>\n",
       "</table>\n",
       "<p>5 rows × 23 columns</p>\n",
       "</div>"
      ],
      "text/plain": [
       "       season  division  matchday       date      time  home_team  away_team  \\\n",
       "21648    2009         1        16 2010-01-02   6:00 PM        3.0        1.0   \n",
       "21649    2009         1        16 2010-01-02   8:00 PM       17.0       38.0   \n",
       "21650    2009         1        16 2010-01-02  10:00 PM        6.0        7.0   \n",
       "21651    2009         1        16 2010-01-03   5:00 PM       16.0       39.0   \n",
       "21652    2009         1        16 2010-01-03   5:00 PM       43.0       20.0   \n",
       "\n",
       "       goals_home  goals_away  result  ...  conceded_away  win  tie  lost  \\\n",
       "21648           1           0       1  ...            862    0    0     0   \n",
       "21649           1           1       0  ...            489    0    0     0   \n",
       "21650           2           1       1  ...            819    0    0     0   \n",
       "21651           2           2       0  ...            342    0    0     0   \n",
       "21652           1           0       1  ...            914    0    0     0   \n",
       "\n",
       "       win_home  tie_home  lost_home  win_away  tie_away  lost_away  \n",
       "21648     498.0     861.0      337.0     390.0     888.0      418.0  \n",
       "21649     639.0     835.0      224.0     258.0     506.0      228.0  \n",
       "21650     506.0     856.0      344.0     460.0     873.0      393.0  \n",
       "21651     407.0     881.0      438.0     158.0     324.0      161.0  \n",
       "21652     155.0     380.0      199.0     379.0     900.0      432.0  \n",
       "\n",
       "[5 rows x 23 columns]"
      ]
     },
     "execution_count": 150,
     "metadata": {},
     "output_type": "execute_result"
    }
   ],
   "source": [
    "test.head()"
   ]
  },
  {
   "attachments": {},
   "cell_type": "markdown",
   "metadata": {},
   "source": [
    "First let's look at whether or not the columns that show the goal history add better performance to the models."
   ]
  },
  {
   "cell_type": "code",
   "execution_count": 151,
   "metadata": {},
   "outputs": [],
   "source": [
    "cols = ['home_team', 'away_team', 'division', \n",
    "'matchday', 'scored_home', 'scored_away', 'conceded_away', 'conceded_home']\n",
    "\n",
    "x_train = train[cols]\n",
    "y_train = train['result']\n",
    "\n",
    "x_test = test[cols]\n",
    "y_test = test['result']"
   ]
  },
  {
   "attachments": {},
   "cell_type": "markdown",
   "metadata": {},
   "source": [
    "Decision Tree Classifier (DTC):"
   ]
  },
  {
   "cell_type": "code",
   "execution_count": 152,
   "metadata": {},
   "outputs": [
    {
     "name": "stdout",
     "output_type": "stream",
     "text": [
      "Accuracy Tree: 0.37002746973242445\n"
     ]
    }
   ],
   "source": [
    "model = DecisionTreeClassifier()\n",
    "model.fit(x_train, y_train)\n",
    "\n",
    "prediction = model.predict(x_test)\n",
    "\n",
    "hits = (y_test == prediction).value_counts()\n",
    "print(f'Accuracy Tree: {hits[1] / len(y_test)}')"
   ]
  },
  {
   "attachments": {},
   "cell_type": "markdown",
   "metadata": {},
   "source": [
    "Gradient Boosting Classifier (GBC):"
   ]
  },
  {
   "cell_type": "code",
   "execution_count": 153,
   "metadata": {},
   "outputs": [
    {
     "name": "stdout",
     "output_type": "stream",
     "text": [
      "Accuracy BoostingC: 0.4461288025231458\n"
     ]
    }
   ],
   "source": [
    "model2 = GradientBoostingClassifier()\n",
    "model2.fit(x_train, y_train)\n",
    "\n",
    "prediction = model2.predict(x_test)\n",
    "\n",
    "hits = (y_test == prediction).value_counts()\n",
    "print(f'Accuracy BoostingC: {hits[1] / len(y_test)}')"
   ]
  },
  {
   "attachments": {},
   "cell_type": "markdown",
   "metadata": {},
   "source": [
    "Random Forest Classifier (RFC):"
   ]
  },
  {
   "cell_type": "code",
   "execution_count": 154,
   "metadata": {},
   "outputs": [
    {
     "name": "stdout",
     "output_type": "stream",
     "text": [
      "Accuracy RandomForest: 0.4369722250483264\n"
     ]
    }
   ],
   "source": [
    "model3 = RandomForestClassifier()\n",
    "model3.fit(x_train, y_train)\n",
    "\n",
    "prediction = model3.predict(x_test)\n",
    "\n",
    "hits = (y_test == prediction).value_counts()\n",
    "print(f'Accuracy RandomForest: {hits[1] / len(y_test)}')"
   ]
  },
  {
   "attachments": {},
   "cell_type": "markdown",
   "metadata": {},
   "source": [
    "Logistic Regression (LR):"
   ]
  },
  {
   "cell_type": "code",
   "execution_count": 155,
   "metadata": {},
   "outputs": [
    {
     "name": "stdout",
     "output_type": "stream",
     "text": [
      "Accuracy Logistic: 0.47298809644928275\n"
     ]
    }
   ],
   "source": [
    "model4 = LogisticRegression(max_iter=1000)\n",
    "model4.fit(x_train, y_train)\n",
    "\n",
    "prediction = model4.predict(x_test)\n",
    "\n",
    "hits = (y_test == prediction).value_counts()\n",
    "print(f'Accuracy Logistic: {hits[1] / len(y_test)}')"
   ]
  },
  {
   "attachments": {},
   "cell_type": "markdown",
   "metadata": {},
   "source": [
    "Let's see a table with the diferents accuracies of the four models:\n",
    "\n",
    "| Model | Accuracy (%) |\n",
    "|:----:|:----:|\n",
    "| DTC | 37.00 |\n",
    "| GBC | 44.61 |\n",
    "| RFC | 43.69 |\n",
    "| LR | 47.30 |"
   ]
  },
  {
   "attachments": {},
   "cell_type": "markdown",
   "metadata": {},
   "source": [
    "If we check the new percentages with the old ones, we can determine that the goal history not only does not have a great effect, but does not improve performance. As an exception we have the logical regression that increases considerably in success and reaches 48%."
   ]
  },
  {
   "attachments": {},
   "cell_type": "markdown",
   "metadata": {},
   "source": [
    "Let's take a look at what's going on with the winning record."
   ]
  },
  {
   "cell_type": "code",
   "execution_count": 156,
   "metadata": {},
   "outputs": [],
   "source": [
    "cols = ['home_team', 'away_team', 'division', \n",
    "'matchday', 'win_home', 'tie_home', 'lost_home',\n",
    "'win_away', 'tie_away', 'lost_away']\n",
    "\n",
    "x_train = train[cols]\n",
    "y_train = train['result']\n",
    "\n",
    "x_test = test[cols]\n",
    "y_test = test['result']"
   ]
  },
  {
   "attachments": {},
   "cell_type": "markdown",
   "metadata": {},
   "source": [
    "Decision Tree Classifier (DTC):"
   ]
  },
  {
   "cell_type": "code",
   "execution_count": 157,
   "metadata": {},
   "outputs": [
    {
     "name": "stdout",
     "output_type": "stream",
     "text": [
      "Accuracy Tree: 0.3710448672296266\n"
     ]
    }
   ],
   "source": [
    "model = DecisionTreeClassifier()\n",
    "model.fit(x_train, y_train)\n",
    "\n",
    "prediction = model.predict(x_test)\n",
    "\n",
    "hits = (y_test == prediction).value_counts()\n",
    "print(f'Accuracy Tree: {hits[1] / len(y_test)}')"
   ]
  },
  {
   "attachments": {},
   "cell_type": "markdown",
   "metadata": {},
   "source": [
    "Gradient Boosting Classifier (GBC):"
   ]
  },
  {
   "cell_type": "code",
   "execution_count": 158,
   "metadata": {},
   "outputs": [
    {
     "name": "stdout",
     "output_type": "stream",
     "text": [
      "Accuracy BoostingC: 0.4466375012717469\n"
     ]
    }
   ],
   "source": [
    "model2 = GradientBoostingClassifier()\n",
    "model2.fit(x_train, y_train)\n",
    "\n",
    "prediction = model2.predict(x_test)\n",
    "\n",
    "hits = (y_test == prediction).value_counts()\n",
    "print(f'Accuracy BoostingC: {hits[1] / len(y_test)}')"
   ]
  },
  {
   "attachments": {},
   "cell_type": "markdown",
   "metadata": {},
   "source": [
    "Random Forest Classifier (RFC):"
   ]
  },
  {
   "cell_type": "code",
   "execution_count": 159,
   "metadata": {},
   "outputs": [
    {
     "name": "stdout",
     "output_type": "stream",
     "text": [
      "Accuracy RandomForest: 0.41977820734560994\n"
     ]
    }
   ],
   "source": [
    "model3 = RandomForestClassifier()\n",
    "model3.fit(x_train, y_train)\n",
    "\n",
    "prediction = model3.predict(x_test)\n",
    "\n",
    "hits = (y_test == prediction).value_counts()\n",
    "print(f'Accuracy RandomForest: {hits[1] / len(y_test)}')"
   ]
  },
  {
   "attachments": {},
   "cell_type": "markdown",
   "metadata": {},
   "source": [
    "Logistic Regression (LR):"
   ]
  },
  {
   "cell_type": "code",
   "execution_count": 160,
   "metadata": {},
   "outputs": [
    {
     "name": "stdout",
     "output_type": "stream",
     "text": [
      "Accuracy Logistic: 0.4731915759487232\n"
     ]
    }
   ],
   "source": [
    "model4 = LogisticRegression(max_iter=10000)\n",
    "model4.fit(x_train, y_train)\n",
    "\n",
    "prediction = model4.predict(x_test)\n",
    "\n",
    "hits = (y_test == prediction).value_counts()\n",
    "print(f'Accuracy Logistic: {hits[1] / len(y_test)}')"
   ]
  },
  {
   "attachments": {},
   "cell_type": "markdown",
   "metadata": {},
   "source": [
    "Let's see a table with the diferents accuracies of the four models:\n",
    "\n",
    "| Model | Accuracy (%) |\n",
    "|:----:|:----:|\n",
    "| DTC | 37.10 |\n",
    "| GBC | 44.66 |\n",
    "| RFC | 41.98 |\n",
    "| LR | 47.32 |"
   ]
  },
  {
   "attachments": {},
   "cell_type": "markdown",
   "metadata": {},
   "source": [
    "In this case we get very similiar results. The GBC and RFC models get worse another time but the logistic regression improve another time."
   ]
  },
  {
   "attachments": {},
   "cell_type": "markdown",
   "metadata": {},
   "source": [
    "Another try that we can perform is to mix the diferents rows that we have obtained with the functions."
   ]
  },
  {
   "cell_type": "code",
   "execution_count": 161,
   "metadata": {},
   "outputs": [],
   "source": [
    "cols = ['home_team', 'away_team', 'division', \n",
    "'matchday', 'scored_home', 'win_home', 'scored_away',\n",
    "'win_away']\n",
    "\n",
    "x_train = train[cols]\n",
    "y_train = train['result']\n",
    "\n",
    "x_test = test[cols]\n",
    "y_test = test['result']"
   ]
  },
  {
   "attachments": {},
   "cell_type": "markdown",
   "metadata": {},
   "source": [
    "Decision Tree Classifier (DTC):"
   ]
  },
  {
   "cell_type": "code",
   "execution_count": 162,
   "metadata": {},
   "outputs": [
    {
     "name": "stdout",
     "output_type": "stream",
     "text": [
      "Accuracy Tree: 0.3760301149659172\n"
     ]
    }
   ],
   "source": [
    "model = DecisionTreeClassifier()\n",
    "model.fit(x_train, y_train)\n",
    "\n",
    "prediction = model.predict(x_test)\n",
    "\n",
    "hits = (y_test == prediction).value_counts()\n",
    "print(f'Accuracy Tree: {hits[1] / len(y_test)}')"
   ]
  },
  {
   "attachments": {},
   "cell_type": "markdown",
   "metadata": {},
   "source": [
    "Gradient Boosting Classifier (GBC):"
   ]
  },
  {
   "cell_type": "code",
   "execution_count": 163,
   "metadata": {},
   "outputs": [
    {
     "name": "stdout",
     "output_type": "stream",
     "text": [
      "Accuracy BoostingC: 0.4692237257096348\n"
     ]
    }
   ],
   "source": [
    "model2 = GradientBoostingClassifier()\n",
    "model2.fit(x_train, y_train)\n",
    "\n",
    "prediction = model2.predict(x_test)\n",
    "\n",
    "hits = (y_test == prediction).value_counts()\n",
    "print(f'Accuracy BoostingC: {hits[1] / len(y_test)}')"
   ]
  },
  {
   "attachments": {},
   "cell_type": "markdown",
   "metadata": {},
   "source": [
    "Random Forest Classifier (RFC):"
   ]
  },
  {
   "cell_type": "code",
   "execution_count": 164,
   "metadata": {},
   "outputs": [
    {
     "name": "stdout",
     "output_type": "stream",
     "text": [
      "Accuracy RandomForest: 0.44460270627734255\n"
     ]
    }
   ],
   "source": [
    "model3 = RandomForestClassifier()\n",
    "model3.fit(x_train, y_train)\n",
    "\n",
    "prediction = model3.predict(x_test)\n",
    "\n",
    "hits = (y_test == prediction).value_counts()\n",
    "print(f'Accuracy RandomForest: {hits[1] / len(y_test)}')"
   ]
  },
  {
   "attachments": {},
   "cell_type": "markdown",
   "metadata": {},
   "source": [
    "Logistic Regression (LR):"
   ]
  },
  {
   "cell_type": "code",
   "execution_count": 165,
   "metadata": {},
   "outputs": [
    {
     "name": "stdout",
     "output_type": "stream",
     "text": [
      "Accuracy Logistic: 0.47685420693865094\n"
     ]
    }
   ],
   "source": [
    "model4 = LogisticRegression(max_iter=1000)\n",
    "model4.fit(x_train, y_train)\n",
    "\n",
    "prediction = model4.predict(x_test)\n",
    "\n",
    "hits = (y_test == prediction).value_counts()\n",
    "print(f'Accuracy Logistic: {hits[1] / len(y_test)}')"
   ]
  },
  {
   "attachments": {},
   "cell_type": "markdown",
   "metadata": {},
   "source": [
    "Let's see a table with the diferents accuracies of the four models:\n",
    "\n",
    "| Model | Accuracy (%) |\n",
    "|:----:|:----:|\n",
    "| DTC | 37.60 |\n",
    "| GBC | 46.92 |\n",
    "| RFC | 44.46 |\n",
    "| LR | 47.68 |"
   ]
  },
  {
   "attachments": {},
   "cell_type": "markdown",
   "metadata": {},
   "source": [
    "Finally, the most significant change is thaht we have increased just by a 0.4% the accuracy of the Logistic Regression model. Once finished all this tries it is save to say that the historics of goals and the historics of wins does not increase the efficiency of the models. "
   ]
  },
  {
   "attachments": {},
   "cell_type": "markdown",
   "metadata": {},
   "source": [
    "After we have built multiple models to predict a 2020-2021 of LaLiga matchday the conclusion that we get is that a good prediction cannot be done using only these attributes. It is obvious that there are some parameters that are more important than others but none of them it is useful at all. Maybe we would need a parameter that tells us the fitness of the teams or the quality of squads to create a model that is capable to achieve better performances."
   ]
  }
 ],
 "metadata": {
  "kernelspec": {
   "display_name": "Python 3",
   "language": "python",
   "name": "python3"
  },
  "language_info": {
   "codemirror_mode": {
    "name": "ipython",
    "version": 3
   },
   "file_extension": ".py",
   "mimetype": "text/x-python",
   "name": "python",
   "nbconvert_exporter": "python",
   "pygments_lexer": "ipython3",
   "version": "3.9.12 (main, Apr  5 2022, 01:53:17) \n[Clang 12.0.0 ]"
  },
  "orig_nbformat": 4,
  "vscode": {
   "interpreter": {
    "hash": "4a5d33498f9649c05b21671a5d2a953eaa418a7fe5b39b58a8186e2317a66eef"
   }
  }
 },
 "nbformat": 4,
 "nbformat_minor": 2
}
